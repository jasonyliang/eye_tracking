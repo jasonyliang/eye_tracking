{
 "cells": [
  {
   "cell_type": "code",
   "execution_count": 1,
   "metadata": {},
   "outputs": [],
   "source": [
    "# implementation from https://arxiv.org/pdf/1204.0375.pdf\n",
    "import numpy as np"
   ]
  },
  {
   "cell_type": "code",
   "execution_count": 17,
   "metadata": {},
   "outputs": [],
   "source": [
    "def kf_predict(X, P, A, Q, B, U):\n",
    "    X = np.dot(A, X) + np.dot(B, U)\n",
    "    P = np.dot(A, np.dot(P, A.T)) + Q\n",
    "    return(X,P) \n",
    "def kf_update(X, P, Y, H, R):\n",
    "    IM = np.dot(H, X)\n",
    "    V = Y - IM\n",
    "    S = np.dot(H, np.dot(P, H.T)) + R\n",
    "    K = np.dot(P, np.dot(H.T, np.linalg.inv(S)))\n",
    "    X = X + np.dot(K, V)\n",
    "    P = P - np.dot(K, np.dot(S, K.T))\n",
    "    # predictive probabiliy of measurement which is computed \n",
    "    # using the  Python function gauss_pdf\n",
    "    LH = gauss_pdf(Y, IM, S)\n",
    "    return (X, P, K, IM, S, LH)\n",
    "\n",
    "def gauss_pdf(X, M, S):\n",
    "    if M.shape[1] == 1:\n",
    "        DX = X - np.tile(M, X.shape[1])\n",
    "        E = 0.5 * np.sum(DX * (np.dot(np.linalg.inv(S), DX)), axis=0)\n",
    "        E = E + 0.5 * M.shape[0] * np.log(2 * np.pi) + 0.5 * np.log(np.linalg.det(S))\n",
    "        P = np.exp(-E)\n",
    "    elif X.shape()[1] == 1:\n",
    "        DX = np.tile(X, M.shape[1])- M\n",
    "        E = 0.5 * np.sum(DX * (np.dot(np.linalg.inv(S), DX)), axis=0)\n",
    "        E = E + 0.5 * M.shape[0] * np.log(2 * np.pi) + 0.5 * np.log(np.linalg.det(S))\n",
    "        P = np.exp(-E)\n",
    "    else:\n",
    "        DX = X-M\n",
    "        E = 0.5 * np.dot(DX.T, np.dot(np.linalg.inv(S), DX))\n",
    "        E = E + 0.5 * M.shape[0] * np.log(2 * np.pi) + 0.5 * np.log(np.linalg.det(S))\n",
    "        P = np.exp(-E)\n",
    "    return (P[0],E[0]) \n",
    "    \n",
    "    \n",
    "    "
   ]
  },
  {
   "cell_type": "code",
   "execution_count": 20,
   "metadata": {},
   "outputs": [],
   "source": [
    "# example: tracking of mobile in wireless network\n",
    "\n",
    "# time step of mobile movement\n",
    "dt = 0.1\n",
    "\n",
    "# initialization\n",
    "X = np.array([[0],[0],[0.1], [0.1]], dtype=np.float64)\n",
    "P = np.diag((0.01, 0.01, 0.01, 0.01))\n",
    "A = np.array([[1, 0, dt , 0], [0, 1, 0, dt], [0, 0, 1, 0], [0, 0, 0,\\\n",
    " 1]])\n",
    "Q = np.eye(X.shape[0])\n",
    "B = np.eye(X.shape[0])\n",
    "U = np.zeros((X.shape[0], 1))\n",
    "\n",
    "# measurement matrices\n",
    "Y = np.array([[X[0,0] + abs(np.random.randn(1)[0])], [X[1,0] + abs(np.random.randn(1)[0])]])\n",
    "H = np.array([[1, 0, 0, 0], [0, 1, 0, 0]])\n",
    "R = np.eye(Y.shape[0]) \n",
    "\n",
    "# Number of iterations in Kalman Filter \n",
    "N_iter = 50\n",
    "xs = []\n",
    "ys = []\n",
    "# Apply Kalman Filter\n",
    "for i in range(0, N_iter):\n",
    "    (X, P) = kf_predict(X, P, A, Q, B, U)\n",
    "    (X, P, K, IM, IS, LH) = kf_update(X, P, Y, H, R)\n",
    "    Y = np.array([[X[0,0]+abs(0.1*np.random.randn(1)[0])], [X[1,0]+abs(0.1*np.random.randn(1)[0])]])\n",
    "    xs.append(X)\n",
    "    ys.append(Y)\n"
   ]
  },
  {
   "cell_type": "code",
   "execution_count": 38,
   "metadata": {},
   "outputs": [
    {
     "data": {
      "image/png": "[encoded data removed]",
      "text/plain": [
       "<Figure size 432x288 with 1 Axes>"
      ]
     },
     "metadata": {
      "needs_background": "light"
     },
     "output_type": "display_data"
    }
   ],
   "source": [
    "import matplotlib.pyplot as plt\n",
    "xs = np.array(xs)\n",
    "ys = np.array(ys)\n",
    "plt.plot(xs[:,0, 0], xs[:, 1, 0])\n",
    "plt.plot(ys[:, 0], ys[:, 1])\n",
    "plt.show()"
   ]
  },
  {
   "cell_type": "code",
   "execution_count": 36,
   "metadata": {},
   "outputs": [
    {
     "data": {
      "text/plain": [
       "array([0.31287405, 0.41582531, 0.42884057, 0.47253828, 0.49670271,\n",
       "       0.61288916, 0.62421195, 0.64314003, 0.66352958, 0.70301428,\n",
       "       0.71729602, 0.74298719, 0.78371362, 0.80544597, 0.96163304,\n",
       "       1.05965258, 1.11740751, 1.15432119, 1.19943439, 1.25060895,\n",
       "       1.36055956, 1.40788794, 1.43765457, 1.47036465, 1.48813391,\n",
       "       1.64464342, 1.70662685, 1.84714166, 1.98772885, 2.0602833 ,\n",
       "       2.16491954, 2.22503968, 2.25461466, 2.31930225, 2.35702059,\n",
       "       2.39479908, 2.43971949, 2.47482471, 2.55262601, 2.58148497,\n",
       "       2.69765303, 2.77774971, 2.9613671 , 3.05574925, 3.08832234,\n",
       "       3.12779495, 3.21789241, 3.30518804, 3.3650152 , 3.43085489])"
      ]
     },
     "execution_count": 36,
     "metadata": {},
     "output_type": "execute_result"
    }
   ],
   "source": []
  },
  {
   "cell_type": "code",
   "execution_count": 31,
   "metadata": {},
   "outputs": [
    {
     "data": {
      "text/plain": [
       "array([[0.29569539],\n",
       "       [0.41582531],\n",
       "       [0.10066317],\n",
       "       [0.10653452]])"
      ]
     },
     "execution_count": 31,
     "metadata": {},
     "output_type": "execute_result"
    }
   ],
   "source": [
    "xs[1]"
   ]
  },
  {
   "cell_type": "code",
   "execution_count": null,
   "metadata": {},
   "outputs": [],
   "source": []
  }
 ],
 "metadata": {
  "kernelspec": {
   "display_name": "Python 3",
   "language": "python",
   "name": "python3"
  },
  "language_info": {
   "codemirror_mode": {
    "name": "ipython",
    "version": 3
   },
   "file_extension": ".py",
   "mimetype": "text/x-python",
   "name": "python",
   "nbconvert_exporter": "python",
   "pygments_lexer": "ipython3",
   "version": "3.6.5"
  }
 },
 "nbformat": 4,
 "nbformat_minor": 2
}
